{
 "cells": [
  {
   "cell_type": "code",
   "execution_count": 61,
   "metadata": {},
   "outputs": [],
   "source": [
    "import pandas as pd"
   ]
  },
  {
   "cell_type": "code",
   "execution_count": 62,
   "metadata": {},
   "outputs": [],
   "source": [
    "TXN_FILE = \"transactions.csv\"\n",
    "REPAY_FILE = \"repayments.csv\""
   ]
  },
  {
   "cell_type": "code",
   "execution_count": 63,
   "metadata": {},
   "outputs": [],
   "source": [
    "txn_df = pd.read_csv(TXN_FILE)\n",
    "repay_df = pd.read_csv(REPAY_FILE)"
   ]
  },
  {
   "cell_type": "markdown",
   "metadata": {},
   "source": [
    "### Query 1"
   ]
  },
  {
   "cell_type": "code",
   "execution_count": 64,
   "metadata": {},
   "outputs": [],
   "source": [
    "def calculate_total_outstanding():\n",
    "    # Calculate the total principal to be paid for each loan (leaving out interest as per the query's description)\n",
    "    principal_to_pay_series = txn_df['downPaymentAmount'] + (txn_df['tenure'] * txn_df['emiPrincipal'])\n",
    "    principal_to_pay_df = pd.DataFrame({'transactionId' : txn_df['transactionId'], 'totalPrincipalToPay' : principal_to_pay_series})\n",
    "\n",
    "    # Group repayments by transactionId and sum the repayments towards each individial loan\n",
    "    total_repayments_df = repay_df.groupby('transactionId')['amount'].sum().reset_index()\n",
    "\n",
    "    # Merge transactions with total repayments\n",
    "    paid_unpaid_df = pd.merge(principal_to_pay_df, total_repayments_df, on='transactionId', how='left')\n",
    "    paid_unpaid_df.rename(columns={'amount': 'totalPrincipalPaid'}, inplace=True)\n",
    "\n",
    "    # Replace NaN with 0 for loans with no repayments (not the case in this dataset, but adding for future)\n",
    "    paid_unpaid_df['totalPrincipalPaid'] = paid_unpaid_df['totalPrincipalPaid'].fillna(0)\n",
    "\n",
    "    # Calculate outstanding amount to be paid\n",
    "    paid_unpaid_df['outstandingAmount'] = (paid_unpaid_df['totalPrincipalToPay'] - paid_unpaid_df['totalPrincipalPaid'])\n",
    "\n",
    "    # Select required columns\n",
    "    final_result = pd.DataFrame(paid_unpaid_df[['transactionId', 'outstandingAmount']])\n",
    "    # Convert paise to rupees\n",
    "    final_result['outstandingAmount'] = final_result['outstandingAmount'] / 100\n",
    "    return final_result\n"
   ]
  },
  {
   "cell_type": "code",
   "execution_count": 65,
   "metadata": {},
   "outputs": [
    {
     "data": {
      "text/html": [
       "<div>\n",
       "<style scoped>\n",
       "    .dataframe tbody tr th:only-of-type {\n",
       "        vertical-align: middle;\n",
       "    }\n",
       "\n",
       "    .dataframe tbody tr th {\n",
       "        vertical-align: top;\n",
       "    }\n",
       "\n",
       "    .dataframe thead th {\n",
       "        text-align: right;\n",
       "    }\n",
       "</style>\n",
       "<table border=\"1\" class=\"dataframe\">\n",
       "  <thead>\n",
       "    <tr style=\"text-align: right;\">\n",
       "      <th></th>\n",
       "      <th>transactionId</th>\n",
       "      <th>outstandingAmount</th>\n",
       "    </tr>\n",
       "  </thead>\n",
       "  <tbody>\n",
       "    <tr>\n",
       "      <th>0</th>\n",
       "      <td>704663</td>\n",
       "      <td>0.00</td>\n",
       "    </tr>\n",
       "    <tr>\n",
       "      <th>1</th>\n",
       "      <td>1403240</td>\n",
       "      <td>0.00</td>\n",
       "    </tr>\n",
       "    <tr>\n",
       "      <th>2</th>\n",
       "      <td>1961345</td>\n",
       "      <td>0.00</td>\n",
       "    </tr>\n",
       "    <tr>\n",
       "      <th>3</th>\n",
       "      <td>1682956</td>\n",
       "      <td>0.00</td>\n",
       "    </tr>\n",
       "    <tr>\n",
       "      <th>4</th>\n",
       "      <td>2392323</td>\n",
       "      <td>2811.34</td>\n",
       "    </tr>\n",
       "    <tr>\n",
       "      <th>...</th>\n",
       "      <td>...</td>\n",
       "      <td>...</td>\n",
       "    </tr>\n",
       "    <tr>\n",
       "      <th>995</th>\n",
       "      <td>1076397</td>\n",
       "      <td>0.00</td>\n",
       "    </tr>\n",
       "    <tr>\n",
       "      <th>996</th>\n",
       "      <td>945211</td>\n",
       "      <td>0.00</td>\n",
       "    </tr>\n",
       "    <tr>\n",
       "      <th>997</th>\n",
       "      <td>541382</td>\n",
       "      <td>0.00</td>\n",
       "    </tr>\n",
       "    <tr>\n",
       "      <th>998</th>\n",
       "      <td>336716</td>\n",
       "      <td>0.00</td>\n",
       "    </tr>\n",
       "    <tr>\n",
       "      <th>999</th>\n",
       "      <td>1383991</td>\n",
       "      <td>0.00</td>\n",
       "    </tr>\n",
       "  </tbody>\n",
       "</table>\n",
       "<p>1000 rows × 2 columns</p>\n",
       "</div>"
      ],
      "text/plain": [
       "     transactionId  outstandingAmount\n",
       "0           704663               0.00\n",
       "1          1403240               0.00\n",
       "2          1961345               0.00\n",
       "3          1682956               0.00\n",
       "4          2392323            2811.34\n",
       "..             ...                ...\n",
       "995        1076397               0.00\n",
       "996         945211               0.00\n",
       "997         541382               0.00\n",
       "998         336716               0.00\n",
       "999        1383991               0.00\n",
       "\n",
       "[1000 rows x 2 columns]"
      ]
     },
     "execution_count": 65,
     "metadata": {},
     "output_type": "execute_result"
    }
   ],
   "source": [
    "calculate_total_outstanding()"
   ]
  },
  {
   "cell_type": "markdown",
   "metadata": {},
   "source": [
    "### Query 2"
   ]
  },
  {
   "cell_type": "code",
   "execution_count": null,
   "metadata": {},
   "outputs": [],
   "source": []
  }
 ],
 "metadata": {
  "kernelspec": {
   "display_name": "Python 3",
   "language": "python",
   "name": "python3"
  },
  "language_info": {
   "codemirror_mode": {
    "name": "ipython",
    "version": 3
   },
   "file_extension": ".py",
   "mimetype": "text/x-python",
   "name": "python",
   "nbconvert_exporter": "python",
   "pygments_lexer": "ipython3",
   "version": "3.10.1"
  }
 },
 "nbformat": 4,
 "nbformat_minor": 2
}
